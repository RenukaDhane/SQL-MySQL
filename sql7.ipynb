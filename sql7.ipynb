{
 "cells": [
  {
   "cell_type": "markdown",
   "id": "d389b66f",
   "metadata": {},
   "source": [
    "Q-13. Write an SQL query to show only odd rows from a table.\n"
   ]
  },
  {
   "cell_type": "markdown",
   "id": "3901b936",
   "metadata": {},
   "source": [
    "Select * from \n",
    "(SELECT  w.*,ROW_NUMBER()   \n",
    "OVER (order by id) AS row_num   \n",
    "FROM worker w) temp where row_num%2<>0 ;"
   ]
  },
  {
   "cell_type": "markdown",
   "id": "49cf848b",
   "metadata": {},
   "source": [
    "Q-14. Write an SQL query to clone a new table from another table."
   ]
  },
  {
   "cell_type": "markdown",
   "id": "8d324fa9",
   "metadata": {},
   "source": [
    "CREATE TABLE clone_demo SELECT * FROM worker;"
   ]
  }
 ],
 "metadata": {
  "kernelspec": {
   "display_name": "Python 3 (ipykernel)",
   "language": "python",
   "name": "python3"
  },
  "language_info": {
   "codemirror_mode": {
    "name": "ipython",
    "version": 3
   },
   "file_extension": ".py",
   "mimetype": "text/x-python",
   "name": "python",
   "nbconvert_exporter": "python",
   "pygments_lexer": "ipython3",
   "version": "3.9.12"
  }
 },
 "nbformat": 4,
 "nbformat_minor": 5
}
