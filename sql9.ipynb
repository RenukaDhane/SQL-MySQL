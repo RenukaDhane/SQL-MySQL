{
 "cells": [
  {
   "cell_type": "markdown",
   "id": "f7ef4a9f",
   "metadata": {},
   "source": [
    "Q-17. Write an SQL query to show the top n (say 10) records of a table.\n"
   ]
  },
  {
   "cell_type": "markdown",
   "id": "157cfe89",
   "metadata": {},
   "source": [
    " select *from worker limit 0,10;"
   ]
  },
  {
   "cell_type": "markdown",
   "id": "e5a08b47",
   "metadata": {},
   "source": [
    "Q-18. Write an SQL query to determine the nth (say n=5) highest salary from a table."
   ]
  },
  {
   "cell_type": "markdown",
   "id": "5626b0f0",
   "metadata": {},
   "source": [
    "set @n:=5;\n",
    "Select * from (SELECT first_name,department,salary,dense_rank() over(order by salary desc) r FROM worker) ranked_worker where r=@n;"
   ]
  }
 ],
 "metadata": {
  "kernelspec": {
   "display_name": "Python 3 (ipykernel)",
   "language": "python",
   "name": "python3"
  },
  "language_info": {
   "codemirror_mode": {
    "name": "ipython",
    "version": 3
   },
   "file_extension": ".py",
   "mimetype": "text/x-python",
   "name": "python",
   "nbconvert_exporter": "python",
   "pygments_lexer": "ipython3",
   "version": "3.9.12"
  }
 },
 "nbformat": 4,
 "nbformat_minor": 5
}
