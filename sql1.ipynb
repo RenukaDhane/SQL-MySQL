{
 "cells": [
  {
   "cell_type": "raw",
   "id": "b1aa09d9",
   "metadata": {},
   "source": [
    "Q-1. Write an SQL query to fetch “FIRST_NAME” from Worker table using the alias\n",
    "name as <WORKER_NAME>.\n",
    "\n"
   ]
  },
  {
   "cell_type": "raw",
   "id": "3bf21f6c",
   "metadata": {},
   "source": [
    "Select WORKER_NAME from Worker;"
   ]
  },
  {
   "cell_type": "raw",
   "id": "e5c578bc",
   "metadata": {},
   "source": [
    "Q-2. Write an SQL query to fetch unique values of DEPARTMENT from Worker table."
   ]
  },
  {
   "cell_type": "raw",
   "id": "3b998ae9",
   "metadata": {},
   "source": [
    "Select distinct(DEPARTMENT) from Worker;"
   ]
  },
  {
   "cell_type": "raw",
   "id": "635dfda8",
   "metadata": {},
   "source": [
    "Q-3. Write an SQL query to show the last 5 record from a table."
   ]
  },
  {
   "cell_type": "raw",
   "id": "3936be97",
   "metadata": {},
   "source": [
    "SELECT * FROM Worker ORDER BY id DESC LIMIT 5;\n",
    "\n",
    "\n",
    "  "
   ]
  }
 ],
 "metadata": {
  "kernelspec": {
   "display_name": "Python 3 (ipykernel)",
   "language": "python",
   "name": "python3"
  },
  "language_info": {
   "codemirror_mode": {
    "name": "ipython",
    "version": 3
   },
   "file_extension": ".py",
   "mimetype": "text/x-python",
   "name": "python",
   "nbconvert_exporter": "python",
   "pygments_lexer": "ipython3",
   "version": "3.9.12"
  }
 },
 "nbformat": 4,
 "nbformat_minor": 5
}
