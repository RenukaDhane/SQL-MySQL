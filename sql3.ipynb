{
 "cells": [
  {
   "cell_type": "raw",
   "id": "487a7fac",
   "metadata": {},
   "source": [
    "Q-1. Write an SQL query to print the FIRST_NAME from Worker table after removing\n",
    "white spaces from the right side."
   ]
  },
  {
   "cell_type": "raw",
   "id": "0e6e35e5",
   "metadata": {},
   "source": [
    "SELECT RTRIM(FIRST_NAME) FROM Worker;"
   ]
  },
  {
   "cell_type": "raw",
   "id": "5e411005",
   "metadata": {},
   "source": [
    "Q-2. Write an SQL query that fetches the unique values of DEPARTMENT from Worker\n",
    "table and prints its length."
   ]
  },
  {
   "cell_type": "raw",
   "id": "aa6b6723",
   "metadata": {},
   "source": [
    "SELECT distinct(DEPARTMENT),LENGTH(DEPARTMENT) FROM Worker;"
   ]
  },
  {
   "cell_type": "raw",
   "id": "d08774a0",
   "metadata": {},
   "source": [
    "Q-3. Write an SQL query to fetch nth max salaries from a table."
   ]
  },
  {
   "cell_type": "raw",
   "id": "c952e015",
   "metadata": {},
   "source": [
    "set @n:=5;\n",
    "Select * from (SELECT first_name,department,salary,dense_rank() over(order by salary desc) r FROM worker) ranked_worker where r=@n;\n"
   ]
  }
 ],
 "metadata": {
  "kernelspec": {
   "display_name": "Python 3 (ipykernel)",
   "language": "python",
   "name": "python3"
  },
  "language_info": {
   "codemirror_mode": {
    "name": "ipython",
    "version": 3
   },
   "file_extension": ".py",
   "mimetype": "text/x-python",
   "name": "python",
   "nbconvert_exporter": "python",
   "pygments_lexer": "ipython3",
   "version": "3.9.12"
  }
 },
 "nbformat": 4,
 "nbformat_minor": 5
}
