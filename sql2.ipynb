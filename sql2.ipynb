{
 "cells": [
  {
   "cell_type": "raw",
   "id": "a0c9250c",
   "metadata": {},
   "source": [
    "Q-1. Write an SQL query to print the first three characters of  FIRST_NAME from Worker\n",
    "table."
   ]
  },
  {
   "cell_type": "raw",
   "id": "6aa50c99",
   "metadata": {},
   "source": [
    "SELECT substr(FIRST_NAME,1,3) FROM Worker;"
   ]
  },
  {
   "cell_type": "raw",
   "id": "cd79710e",
   "metadata": {},
   "source": [
    "Q-2. Write an SQL query to find the position of the alphabet (‘a’) in the first name\n",
    "column ‘Amitabh’ from Worker table."
   ]
  },
  {
   "cell_type": "raw",
   "id": "1d1cbcf8",
   "metadata": {},
   "source": [
    "SELECT instr(first_name,'a') FROM Worker where first_name='Amitabh';"
   ]
  },
  {
   "cell_type": "raw",
   "id": "455f3e5f",
   "metadata": {},
   "source": [
    "Q-3. Write an SQL query to print the name of employees having the highest salary in each\n",
    "department."
   ]
  },
  {
   "cell_type": "raw",
   "id": "8614a937",
   "metadata": {},
   "source": [
    "SELECT name,department,MAX(salary) as max_salary FROM employees GROUP BY department;"
   ]
  }
 ],
 "metadata": {
  "kernelspec": {
   "display_name": "Python 3 (ipykernel)",
   "language": "python",
   "name": "python3"
  },
  "language_info": {
   "codemirror_mode": {
    "name": "ipython",
    "version": 3
   },
   "file_extension": ".py",
   "mimetype": "text/x-python",
   "name": "python",
   "nbconvert_exporter": "python",
   "pygments_lexer": "ipython3",
   "version": "3.9.12"
  }
 },
 "nbformat": 4,
 "nbformat_minor": 5
}
