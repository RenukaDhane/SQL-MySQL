{
 "cells": [
  {
   "cell_type": "markdown",
   "id": "3aa5901d",
   "metadata": {},
   "source": [
    "Q-1. Write an SQL query to print the FIRST_NAME from Worker table after replacing ‘a’\n",
    "with ‘A’."
   ]
  },
  {
   "cell_type": "markdown",
   "id": "97cd5865",
   "metadata": {},
   "source": [
    "Select replace(first_name,'a','A') from worker;"
   ]
  },
  {
   "cell_type": "markdown",
   "id": "09829d42",
   "metadata": {},
   "source": [
    "Q-2. Write an SQL query to print all Worker details from the Worker table order by\n",
    "FIRST_NAME Ascending and DEPARTMENT Descending."
   ]
  },
  {
   "cell_type": "markdown",
   "id": "78ab00e1",
   "metadata": {},
   "source": [
    "select * from worker order by first_name asc ,department desc;\n"
   ]
  },
  {
   "cell_type": "markdown",
   "id": "f32b2be6",
   "metadata": {},
   "source": [
    "Q-3. Write an SQL query to fetch the names of workers who earn the highest salary."
   ]
  },
  {
   "cell_type": "markdown",
   "id": "9059fa47",
   "metadata": {},
   "source": [
    "select first_name from worker where salary in\n",
    "(select max(salary) from worker);"
   ]
  }
 ],
 "metadata": {
  "kernelspec": {
   "display_name": "Python 3 (ipykernel)",
   "language": "python",
   "name": "python3"
  },
  "language_info": {
   "codemirror_mode": {
    "name": "ipython",
    "version": 3
   },
   "file_extension": ".py",
   "mimetype": "text/x-python",
   "name": "python",
   "nbconvert_exporter": "python",
   "pygments_lexer": "ipython3",
   "version": "3.9.12"
  }
 },
 "nbformat": 4,
 "nbformat_minor": 5
}
