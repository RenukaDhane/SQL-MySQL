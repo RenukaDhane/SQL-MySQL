{
 "cells": [
  {
   "cell_type": "markdown",
   "id": "df0e04ec",
   "metadata": {},
   "source": [
    "Q-19. Write an SQL query to determine the 5th highest salary without using TOP or limit\n",
    "method.\n"
   ]
  },
  {
   "cell_type": "markdown",
   "id": "6c7c79ed",
   "metadata": {},
   "source": [
    "Select * from (SELECT first_name,department,salary,dense_rank() over(order by salary desc) r FROM worker) ranked_worker where r=5;"
   ]
  },
  {
   "cell_type": "markdown",
   "id": "d618ffd7",
   "metadata": {},
   "source": [
    "Q-20. Write an SQL query to fetch the list of employees with the same salary."
   ]
  },
  {
   "cell_type": "markdown",
   "id": "2b70fa1f",
   "metadata": {},
   "source": [
    "SELECT salary,\n",
    "GROUP_CONCAT( first_name ) as \"List of Employees with same salary\" \n",
    "FROM worker group by salary;"
   ]
  }
 ],
 "metadata": {
  "kernelspec": {
   "display_name": "Python 3 (ipykernel)",
   "language": "python",
   "name": "python3"
  },
  "language_info": {
   "codemirror_mode": {
    "name": "ipython",
    "version": 3
   },
   "file_extension": ".py",
   "mimetype": "text/x-python",
   "name": "python",
   "nbconvert_exporter": "python",
   "pygments_lexer": "ipython3",
   "version": "3.9.12"
  }
 },
 "nbformat": 4,
 "nbformat_minor": 5
}
