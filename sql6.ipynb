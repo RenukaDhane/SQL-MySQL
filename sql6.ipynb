{
 "cells": [
  {
   "cell_type": "markdown",
   "id": "b688ac52",
   "metadata": {},
   "source": [
    "Q-1. Write an SQL query to print details of the Workers who have joined in Feb’2014.\n",
    "\n"
   ]
  },
  {
   "cell_type": "markdown",
   "id": "9f0e5f25",
   "metadata": {},
   "source": [
    "Select * from worker where DATE_FORMAT(date_of_joining, \"%M %Y\") ='February 2014';"
   ]
  },
  {
   "cell_type": "markdown",
   "id": "b44dde66",
   "metadata": {},
   "source": [
    "Q-2. Write an SQL query to fetch duplicate records having matching data in some fields of\n",
    "a table."
   ]
  },
  {
   "cell_type": "markdown",
   "id": "f0bc1c7d",
   "metadata": {},
   "source": [
    "Select w.*,count(email) record_count from worker w group by first_name,department,salary,email having count(email) >1 ;"
   ]
  },
  {
   "cell_type": "markdown",
   "id": "e5b178e3",
   "metadata": {},
   "source": [
    "Q-3. How to remove duplicate rows from Employees table."
   ]
  },
  {
   "cell_type": "markdown",
   "id": "829d301b",
   "metadata": {},
   "source": [
    "delete from worker where id in\n",
    "(Select id from\n",
    "(SELECT id,first_name,department,salary,email,ROW_NUMBER()\n",
    "OVER (PARTITION BY first_name,department,salary,email order by id) AS row_num   \n",
    "FROM worker)  temp  where row_num>1);"
   ]
  }
 ],
 "metadata": {
  "kernelspec": {
   "display_name": "Python 3 (ipykernel)",
   "language": "python",
   "name": "python3"
  },
  "language_info": {
   "codemirror_mode": {
    "name": "ipython",
    "version": 3
   },
   "file_extension": ".py",
   "mimetype": "text/x-python",
   "name": "python",
   "nbconvert_exporter": "python",
   "pygments_lexer": "ipython3",
   "version": "3.9.12"
  }
 },
 "nbformat": 4,
 "nbformat_minor": 5
}
