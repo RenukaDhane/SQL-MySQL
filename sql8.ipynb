{
 "cells": [
  {
   "cell_type": "markdown",
   "id": "c895d336",
   "metadata": {},
   "source": [
    "Q-15. Write an SQL query to fetch intersecting records of two tables.\n"
   ]
  },
  {
   "cell_type": "markdown",
   "id": "854ce13d",
   "metadata": {},
   "source": [
    "intersect implementation in MySQL (as intersect keyword not supported)\n",
    "\n",
    "Select * from worker_details x\n",
    "inner join worker y on  x.id=y.id;\n"
   ]
  },
  {
   "cell_type": "markdown",
   "id": "2dfced3c",
   "metadata": {},
   "source": [
    "Q-16. Write an SQL query to show records from one table that another table does not\n",
    "have."
   ]
  },
  {
   "cell_type": "markdown",
   "id": "c4565162",
   "metadata": {},
   "source": [
    "Select * from worker_details x\n",
    "left outer join worker y on  x.id=y.id;\n"
   ]
  }
 ],
 "metadata": {
  "kernelspec": {
   "display_name": "Python 3 (ipykernel)",
   "language": "python",
   "name": "python3"
  },
  "language_info": {
   "codemirror_mode": {
    "name": "ipython",
    "version": 3
   },
   "file_extension": ".py",
   "mimetype": "text/x-python",
   "name": "python",
   "nbconvert_exporter": "python",
   "pygments_lexer": "ipython3",
   "version": "3.9.12"
  }
 },
 "nbformat": 4,
 "nbformat_minor": 5
}
